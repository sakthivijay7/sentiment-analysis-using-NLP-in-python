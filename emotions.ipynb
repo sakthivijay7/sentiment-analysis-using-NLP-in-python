{
 "cells": [
  {
   "cell_type": "markdown",
   "id": "171038d0",
   "metadata": {},
   "source": [
    "Files "
   ]
  },
  {
   "cell_type": "code",
   "execution_count": 130,
   "id": "4268b03c",
   "metadata": {},
   "outputs": [],
   "source": [
    "import pandas as pd\n",
    "\n",
    "\n",
    "train_file=r\"D:\\ALL\\Datasets\\country\\train.csv\"\n",
    "val_file=r\"D:\\ALL\\Datasets\\country\\val.txt\"\n",
    "test_file=r\"D:\\ALL\\Datasets\\country\\test.txt\""
   ]
  },
  {
   "cell_type": "markdown",
   "id": "75a42774",
   "metadata": {},
   "source": [
    "Spliting Train data "
   ]
  },
  {
   "cell_type": "code",
   "execution_count": 131,
   "id": "14c93265",
   "metadata": {},
   "outputs": [
    {
     "name": "stdout",
     "output_type": "stream",
     "text": [
      "                                                text   labels\n",
      "0                      i feel so doomed all the time  sadness\n",
      "1  i remember just knowing you were crazy in love...      joy\n",
      "2                       i feel so foolish i admitted  sadness\n",
      "3                        i was feeling quite nervous     fear\n",
      "4  i want to tell you what im feeling but i dont ...     fear\n"
     ]
    }
   ],
   "source": [
    "train_data=pd.read_csv(train_file,header=None,names=[\"text\",\"labels\"])\n",
    "print(train_data[:5])"
   ]
  },
  {
   "cell_type": "code",
   "execution_count": 132,
   "id": "b6c378e0",
   "metadata": {},
   "outputs": [
    {
     "name": "stdout",
     "output_type": "stream",
     "text": [
      "0                        i feel so doomed all the time\n",
      "1    i remember just knowing you were crazy in love...\n",
      "2                         i feel so foolish i admitted\n",
      "3                          i was feeling quite nervous\n",
      "4    i want to tell you what im feeling but i dont ...\n",
      "Name: text, dtype: object\n",
      "0    sadness\n",
      "1        joy\n",
      "2    sadness\n",
      "3       fear\n",
      "4       fear\n",
      "Name: labels, dtype: object\n"
     ]
    }
   ],
   "source": [
    "train_data[\"text\"]=train_data[\"text\"].str.strip()\n",
    "train_data[\"labels\"]=train_data[\"labels\"].str.strip()\n",
    "print(train_data[\"text\"][:5])\n",
    "print(train_data[\"labels\"][:5])"
   ]
  },
  {
   "cell_type": "markdown",
   "id": "6f2fd44e",
   "metadata": {},
   "source": [
    "Spliting Validation data "
   ]
  },
  {
   "cell_type": "code",
   "execution_count": 133,
   "id": "2a5501a8",
   "metadata": {},
   "outputs": [
    {
     "name": "stdout",
     "output_type": "stream",
     "text": [
      "                                                text   labels\n",
      "0  im feeling quite sad and sorry for myself but ...  sadness\n",
      "1  i feel like i am still looking at a blank canv...  sadness\n",
      "2                     i feel like a faithful servant     love\n",
      "3                  i am just feeling cranky and blue    anger\n",
      "4  i can have for a treat or if i am feeling festive      joy\n"
     ]
    }
   ],
   "source": [
    "val_data=pd.read_csv(val_file,sep=\";\",header=None,names=[\"text\",\"labels\"])\n",
    "print(val_data[:5])"
   ]
  },
  {
   "cell_type": "markdown",
   "id": "60d3d5b8",
   "metadata": {},
   "source": [
    "Spliting Test data "
   ]
  },
  {
   "cell_type": "code",
   "execution_count": 134,
   "id": "f8ded2ce",
   "metadata": {},
   "outputs": [
    {
     "name": "stdout",
     "output_type": "stream",
     "text": [
      "                                                text   labels\n",
      "0  im feeling rather rotten so im not very ambiti...  sadness\n",
      "1          im updating my blog because i feel shitty  sadness\n",
      "2  i never make her separate from me because i do...  sadness\n",
      "3  i left with my bouquet of red and yellow tulip...      joy\n",
      "4    i was feeling a little vain when i did this one  sadness\n"
     ]
    }
   ],
   "source": [
    "test_data=pd.read_csv(test_file,sep=\";\",header=None,names=[\"text\",\"labels\"])\n",
    "\n",
    "print(test_data[:5])"
   ]
  },
  {
   "cell_type": "markdown",
   "id": "427aba43",
   "metadata": {},
   "source": [
    "Clean the Texts and store best words"
   ]
  },
  {
   "cell_type": "code",
   "execution_count": 136,
   "id": "a4fa8814",
   "metadata": {},
   "outputs": [],
   "source": [
    "import re\n",
    "import nltk\n",
    "from nltk.corpus import stopwords\n",
    "from nltk.stem import WordNetLemmatizer\n",
    "\n",
    "nltk.data.path.append(\"D:\\ALL\\All_analysis_projects\\3rd\\nltk_data\")\n",
    "stop_words=set(stopwords.words(\"english\"))\n",
    "lemmatizer=WordNetLemmatizer()\n",
    "\n",
    "def clean_text(text):\n",
    "   text=text.lower()\n",
    "   text=re.sub(r\"[^a-z\\s]\",\"\",text)\n",
    "   words=text.split()\n",
    "   clean_word=[]\n",
    "   for word in words:\n",
    "       if word not in stop_words:\n",
    "         lemma=lemmatizer.lemmatize(word)\n",
    "         clean_word.append(lemma)\n",
    "   return \" \".join(clean_word)   \n",
    "   "
   ]
  },
  {
   "cell_type": "markdown",
   "id": "c1fec8a3",
   "metadata": {},
   "source": [
    "Cleaned text apply in New column"
   ]
  },
  {
   "cell_type": "code",
   "execution_count": 137,
   "id": "4f99738e",
   "metadata": {},
   "outputs": [
    {
     "name": "stdout",
     "output_type": "stream",
     "text": [
      "0                                     feel doomed time\n",
      "1    remember knowing crazy love without shadow dou...\n",
      "2                                feel foolish admitted\n",
      "3                                feeling quite nervous\n",
      "4    want tell im feeling dont know start want tell...\n",
      "Name: clean_text, dtype: object\n"
     ]
    }
   ],
   "source": [
    "train_data[\"clean_text\"]=train_data[\"text\"].apply(clean_text)\n",
    "val_data[\"clean_text\"]=val_data[\"text\"].apply(clean_text)\n",
    "test_data[\"clean_text\"]=test_data[\"text\"].apply(clean_text)\n",
    "\n",
    "print(train_data[\"clean_text\"][:5])"
   ]
  },
  {
   "cell_type": "markdown",
   "id": "857f8ea2",
   "metadata": {},
   "source": [
    "Lables"
   ]
  },
  {
   "cell_type": "code",
   "execution_count": 138,
   "id": "91776ba4",
   "metadata": {},
   "outputs": [
    {
     "name": "stdout",
     "output_type": "stream",
     "text": [
      "0    sadness\n",
      "1        joy\n",
      "2    sadness\n",
      "3       fear\n",
      "4       fear\n",
      "Name: labels, dtype: object\n"
     ]
    }
   ],
   "source": [
    "train_label=train_data[\"labels\"]\n",
    "val_label=val_data[\"labels\"]\n",
    "test_label=test_data[\"labels\"]\n",
    "\n",
    "print(train_label[:5])"
   ]
  },
  {
   "cell_type": "markdown",
   "id": "02926231",
   "metadata": {},
   "source": [
    "Label Encoding"
   ]
  },
  {
   "cell_type": "code",
   "execution_count": 140,
   "id": "3c66a7a9",
   "metadata": {},
   "outputs": [
    {
     "data": {
      "image/png": "[encoded data removed]",
      "text/plain": [
       "<Figure size 640x480 with 1 Axes>"
      ]
     },
     "metadata": {},
     "output_type": "display_data"
    },
    {
     "name": "stdout",
     "output_type": "stream",
     "text": [
      "Labels: ['sadness', 'joy', 'sadness', 'fear', 'fear']\n",
      "Encodes: [4 2 4 1 1]\n"
     ]
    }
   ],
   "source": [
    "import matplotlib.pyplot as plt\n",
    "import numpy as np\n",
    "from sklearn.preprocessing import LabelEncoder\n",
    "encoder=LabelEncoder()\n",
    "\n",
    "\n",
    "\n",
    "labels,num_of_times=np.unique(train_label,return_counts=\"True\")\n",
    "plt.plot(labels,num_of_times)\n",
    "plt.xlabel(\"Lables\")\n",
    "plt.ylabel(\"Counts\")\n",
    "plt.show()\n",
    "\n",
    "train_label_encode=encoder.fit_transform(train_label)\n",
    "val_label_encode=encoder.transform(val_label)\n",
    "test_label_encode=encoder.transform(test_label)\n",
    "\n",
    "\n",
    "\n",
    "\n",
    "print(\"Labels:\" ,train_label[:5])\n",
    "print(\"Encodes:\",train_label_encode[:5])"
   ]
  },
  {
   "cell_type": "markdown",
   "id": "20df9b2b",
   "metadata": {},
   "source": [
    "Text features extraction"
   ]
  },
  {
   "cell_type": "code",
   "execution_count": 142,
   "id": "d9414547",
   "metadata": {},
   "outputs": [],
   "source": [
    "import pickle\n",
    "from sklearn.feature_extraction.text import TfidfVectorizer\n",
    "vector=TfidfVectorizer(max_features=5000)\n",
    "\n",
    "x_train_vec=vector.fit_transform(train_data[\"clean_text\"])\n",
    "valid_vec=vector.transform(val_data[\"clean_text\"])\n",
    "test_vec=vector.transform(test_data[\"clean_text\"])\n",
    "\n",
    "with open(\"emotion_vectors.pkl\",\"wb\") as f:\n",
    "    pickle.dump(vector,f)"
   ]
  },
  {
   "cell_type": "markdown",
   "id": "762356c3",
   "metadata": {},
   "source": [
    "Classification Algorithms"
   ]
  },
  {
   "cell_type": "code",
   "execution_count": 143,
   "id": "de9bdabe",
   "metadata": {},
   "outputs": [],
   "source": [
    "from sklearn.linear_model import LogisticRegression\n",
    "from sklearn.naive_bayes import MultinomialNB\n",
    "\n",
    "logistic=LogisticRegression(max_iter=1000,class_weight=\"balanced\")\n",
    "NB=MultinomialNB(alpha=1)\n"
   ]
  },
  {
   "cell_type": "code",
   "execution_count": 144,
   "id": "aca3dd39",
   "metadata": {},
   "outputs": [],
   "source": [
    "logistic.fit(x_train_vec,train_label_encode)\n",
    "NB.fit(x_train_vec,train_label_encode)\n",
    "\n",
    "Models={\"LogisticRegression\":logistic,\n",
    "        \"MultinomialNB\":NB}\n",
    "        \n",
    "with open(\"emotion_models.pkl\",\"wb\") as f:\n",
    "    pickle.dump(Models,f)"
   ]
  },
  {
   "cell_type": "markdown",
   "id": "a4d5256d",
   "metadata": {},
   "source": [
    "Validation Accuracy"
   ]
  },
  {
   "cell_type": "code",
   "execution_count": 145,
   "id": "1e44e92c",
   "metadata": {},
   "outputs": [
    {
     "name": "stdout",
     "output_type": "stream",
     "text": [
      "Logistic validation accuracy: 92.0\n",
      "NB validation  accuracy: 84.6\n"
     ]
    }
   ],
   "source": [
    "from sklearn.metrics import accuracy_score\n",
    "validation1=logistic.predict(valid_vec)\n",
    "validation2=NB.predict(valid_vec)\n",
    "\n",
    "val_1=accuracy_score(validation1,val_label_encode)\n",
    "val_2=accuracy_score(validation2,val_label_encode)\n",
    "\n",
    "print(\"Logistic validation accuracy:\",val_1*100)\n",
    "print(\"NB validation  accuracy:\",val_2*100)"
   ]
  },
  {
   "cell_type": "markdown",
   "id": "a7d9ed34",
   "metadata": {},
   "source": [
    "Test Accuracy"
   ]
  },
  {
   "cell_type": "code",
   "execution_count": 146,
   "id": "47ad28fe",
   "metadata": {},
   "outputs": [
    {
     "name": "stdout",
     "output_type": "stream",
     "text": [
      "Logistic test accuracy: 91.55\n",
      "NB test accuracy: 84.3\n"
     ]
    }
   ],
   "source": [
    "test1=logistic.predict(test_vec)\n",
    "test2=NB.predict(test_vec)\n",
    "\n",
    "test_accuracy1=accuracy_score(test1,test_label_encode)\n",
    "test_accuracy2=accuracy_score(test2,test_label_encode)\n",
    "\n",
    "print(\"Logistic test accuracy:\",test_accuracy1*100)\n",
    "print(\"NB test accuracy:\",test_accuracy2*100)"
   ]
  },
  {
   "cell_type": "markdown",
   "id": "757ace65",
   "metadata": {},
   "source": [
    "Classification Report for Test "
   ]
  },
  {
   "cell_type": "code",
   "execution_count": 147,
   "id": "3c1810f3",
   "metadata": {},
   "outputs": [
    {
     "name": "stdout",
     "output_type": "stream",
     "text": [
      "              precision    recall  f1-score   support\n",
      "\n",
      "           0       0.98      0.89      0.93       303\n",
      "           1       0.96      0.91      0.93       235\n",
      "           2       0.87      0.98      0.92       621\n",
      "           3       0.99      0.71      0.83       222\n",
      "           4       0.89      0.98      0.93       526\n",
      "           5       1.00      0.71      0.83        93\n",
      "\n",
      "    accuracy                           0.92      2000\n",
      "   macro avg       0.95      0.86      0.90      2000\n",
      "weighted avg       0.92      0.92      0.91      2000\n",
      "\n"
     ]
    }
   ],
   "source": [
    "from sklearn.metrics import classification_report\n",
    "report=classification_report(test1,test_label_encode) \n",
    "print(report)"
   ]
  },
  {
   "cell_type": "markdown",
   "id": "ee7fa542",
   "metadata": {},
   "source": [
    "Prediction"
   ]
  },
  {
   "cell_type": "code",
   "execution_count": 150,
   "id": "132b553b",
   "metadata": {},
   "outputs": [
    {
     "name": "stdout",
     "output_type": "stream",
     "text": [
      "Joy\n"
     ]
    }
   ],
   "source": [
    "text=[\"i can have for a treat or if i am feeling festive\"]\n",
    "\n",
    "vec=vector.transform(text)\n",
    "result=logistic.predict(vec)\n",
    "\n",
    "if result==0:\n",
    "    print(\"Anger\")\n",
    "elif result==1: \n",
    "    print(\"Fear\")   \n",
    "elif result==2:\n",
    "    print(\"Joy\")\n",
    "elif result==3:\n",
    "    print(\"Love\")\n",
    "elif result==4:\n",
    "    print(\"Sadness\") \n",
    "else:\n",
    "    print(\"Surprice\")               "
   ]
  }
 ],
 "metadata": {
  "kernelspec": {
   "display_name": "Python 3",
   "language": "python",
   "name": "python3"
  },
  "language_info": {
   "codemirror_mode": {
    "name": "ipython",
    "version": 3
   },
   "file_extension": ".py",
   "mimetype": "text/x-python",
   "name": "python",
   "nbconvert_exporter": "python",
   "pygments_lexer": "ipython3",
   "version": "3.9.6"
  }
 },
 "nbformat": 4,
 "nbformat_minor": 5
}
